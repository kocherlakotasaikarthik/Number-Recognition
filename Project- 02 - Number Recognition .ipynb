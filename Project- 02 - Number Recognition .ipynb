{
 "cells": [
  {
   "cell_type": "markdown",
   "metadata": {},
   "source": [
    "# Number Recognition\n",
    "\n",
    "- Step : 1 - Import Datascience Libraries"
   ]
  },
  {
   "cell_type": "code",
   "execution_count": 1,
   "metadata": {},
   "outputs": [],
   "source": [
    "import numpy as np\n",
    "import pandas as pd\n",
    "import matplotlib.pyplot as plt\n",
    "%matplotlib inline"
   ]
  },
  {
   "cell_type": "markdown",
   "metadata": {},
   "source": [
    "> **Step - 1 : Loading Dataset**"
   ]
  },
  {
   "cell_type": "code",
   "execution_count": 2,
   "metadata": {},
   "outputs": [],
   "source": [
    "from sklearn.datasets import load_digits"
   ]
  },
  {
   "cell_type": "code",
   "execution_count": 3,
   "metadata": {},
   "outputs": [
    {
     "data": {
      "text/plain": [
       "dict_keys(['data', 'target', 'target_names', 'images', 'DESCR'])"
      ]
     },
     "execution_count": 3,
     "metadata": {},
     "output_type": "execute_result"
    }
   ],
   "source": [
    "digits = load_digits() # which contain dataset\n",
    "digits.keys()"
   ]
  },
  {
   "cell_type": "code",
   "execution_count": 5,
   "metadata": {},
   "outputs": [
    {
     "name": "stdout",
     "output_type": "stream",
     "text": [
      "Optical Recognition of Handwritten Digits Data Set\n",
      "===================================================\n",
      "\n",
      "Notes\n",
      "-----\n",
      "Data Set Characteristics:\n",
      "    :Number of Instances: 5620\n",
      "    :Number of Attributes: 64\n",
      "    :Attribute Information: 8x8 image of integer pixels in the range 0..16.\n",
      "    :Missing Attribute Values: None\n",
      "    :Creator: E. Alpaydin (alpaydin '@' boun.edu.tr)\n",
      "    :Date: July; 1998\n",
      "\n",
      "This is a copy of the test set of the UCI ML hand-written digits datasets\n",
      "http://archive.ics.uci.edu/ml/datasets/Optical+Recognition+of+Handwritten+Digits\n",
      "\n",
      "The data set contains images of hand-written digits: 10 classes where\n",
      "each class refers to a digit.\n",
      "\n",
      "Preprocessing programs made available by NIST were used to extract\n",
      "normalized bitmaps of handwritten digits from a preprinted form. From a\n",
      "total of 43 people, 30 contributed to the training set and different 13\n",
      "to the test set. 32x32 bitmaps are divided into nonoverlapping blocks of\n",
      "4x4 and the number of on pixels are counted in each block. This generates\n",
      "an input matrix of 8x8 where each element is an integer in the range\n",
      "0..16. This reduces dimensionality and gives invariance to small\n",
      "distortions.\n",
      "\n",
      "For info on NIST preprocessing routines, see M. D. Garris, J. L. Blue, G.\n",
      "T. Candela, D. L. Dimmick, J. Geist, P. J. Grother, S. A. Janet, and C.\n",
      "L. Wilson, NIST Form-Based Handprint Recognition System, NISTIR 5469,\n",
      "1994.\n",
      "\n",
      "References\n",
      "----------\n",
      "  - C. Kaynak (1995) Methods of Combining Multiple Classifiers and Their\n",
      "    Applications to Handwritten Digit Recognition, MSc Thesis, Institute of\n",
      "    Graduate Studies in Science and Engineering, Bogazici University.\n",
      "  - E. Alpaydin, C. Kaynak (1998) Cascading Classifiers, Kybernetika.\n",
      "  - Ken Tang and Ponnuthurai N. Suganthan and Xi Yao and A. Kai Qin.\n",
      "    Linear dimensionalityreduction using relevance weighted LDA. School of\n",
      "    Electrical and Electronic Engineering Nanyang Technological University.\n",
      "    2005.\n",
      "  - Claudio Gentile. A New Approximate Maximal Margin Classification\n",
      "    Algorithm. NIPS. 2000.\n",
      "\n"
     ]
    }
   ],
   "source": [
    "print(digits['DESCR'])"
   ]
  },
  {
   "cell_type": "markdown",
   "metadata": {},
   "source": [
    "> **Step : 3 - Data Preprocessing**\n",
    "\n",
    "> - Thresholding (Binarizing  (min and max))\n",
    "- Normalsing (0 - 1)"
   ]
  },
  {
   "cell_type": "markdown",
   "metadata": {},
   "source": [
    "* Extracting Independent and dependent varibles*"
   ]
  },
  {
   "cell_type": "code",
   "execution_count": 6,
   "metadata": {},
   "outputs": [],
   "source": [
    "X = digits['data'] # images\n",
    "y = digits['target'] # labeling of that image"
   ]
  },
  {
   "cell_type": "code",
   "execution_count": 7,
   "metadata": {},
   "outputs": [
    {
     "data": {
      "text/plain": [
       "((1797, 64), (1797,))"
      ]
     },
     "execution_count": 7,
     "metadata": {},
     "output_type": "execute_result"
    }
   ],
   "source": [
    "X.shape, y.shape"
   ]
  },
  {
   "cell_type": "code",
   "execution_count": 26,
   "metadata": {},
   "outputs": [
    {
     "data": {
      "image/png": "[encoded data removed]",
      "text/plain": [
       "<matplotlib.figure.Figure at 0xcfa692f898>"
      ]
     },
     "metadata": {},
     "output_type": "display_data"
    }
   ],
   "source": [
    "plt.figure(figsize=(2,2))\n",
    "img = X[0:1]\n",
    "plt.imshow(img.reshape((8,8)),cmap ='gray')\n",
    "plt.title('Number: '+str(y[0]))\n",
    "plt.show()"
   ]
  },
  {
   "cell_type": "markdown",
   "metadata": {},
   "source": [
    "*Thresholding*\n",
    "> Any values greater than 7 replace with max value and if less than 7 replace with min value"
   ]
  },
  {
   "cell_type": "code",
   "execution_count": 23,
   "metadata": {},
   "outputs": [],
   "source": [
    "cond1 = X >= 7 # find values greater or equal to than 7\n",
    "cond2 = X < 7 # find values less than 7\n",
    "X_t = X.copy() # copy array as X_t\n",
    "X_t[cond1] = X_t.max() # if cond1 statisfy replace with max\n",
    "X_t[cond2] = X_t.min() # if cond2 statisfy replace with min"
   ]
  },
  {
   "cell_type": "code",
   "execution_count": 27,
   "metadata": {},
   "outputs": [
    {
     "data": {
      "image/png": "[encoded data removed]",
      "text/plain": [
       "<matplotlib.figure.Figure at 0xcfa6e46518>"
      ]
     },
     "metadata": {},
     "output_type": "display_data"
    }
   ],
   "source": [
    "plt.figure(figsize=(2,2))\n",
    "img = X_t[0:1]\n",
    "plt.imshow(img.reshape((8,8)),cmap ='gray')\n",
    "plt.title('Number: '+str(y[0]))\n",
    "plt.show()"
   ]
  },
  {
   "cell_type": "markdown",
   "metadata": {},
   "source": [
    "**Normalising**"
   ]
  },
  {
   "cell_type": "code",
   "execution_count": 29,
   "metadata": {},
   "outputs": [],
   "source": [
    "X_t = X_t/ X_t.max() # Normalising (0 - 1)"
   ]
  },
  {
   "cell_type": "markdown",
   "metadata": {},
   "source": [
    "> ** Step : 4 - Splitting data into training and testing**"
   ]
  },
  {
   "cell_type": "code",
   "execution_count": 30,
   "metadata": {},
   "outputs": [],
   "source": [
    "from sklearn.cross_validation import train_test_split\n",
    "x_train, x_test, y_train, y_test = train_test_split(X_t,y,test_size=0.2,\n",
    "                                                   random_state=0)"
   ]
  },
  {
   "cell_type": "code",
   "execution_count": 31,
   "metadata": {},
   "outputs": [
    {
     "data": {
      "text/plain": [
       "((1437, 64), (360, 64), (1437,), (360,))"
      ]
     },
     "execution_count": 31,
     "metadata": {},
     "output_type": "execute_result"
    }
   ],
   "source": [
    "x_train.shape, x_test.shape, y_train.shape, y_test.shape"
   ]
  },
  {
   "cell_type": "markdown",
   "metadata": {},
   "source": [
    "> ** Step: 5 - Buliding Machine Learning model**\n",
    "    - Logistic Regression, KNearestNeighbour, Support Vector Mahcine, Decision Tree, Random Forest\n",
    "    "
   ]
  },
  {
   "cell_type": "code",
   "execution_count": 32,
   "metadata": {},
   "outputs": [],
   "source": [
    "from sklearn.linear_model import LogisticRegression\n",
    "from sklearn.neighbors import KNeighborsClassifier\n",
    "from sklearn.svm import SVC\n",
    "from sklearn.tree import DecisionTreeClassifier\n",
    "from sklearn.ensemble import RandomForestClassifier"
   ]
  },
  {
   "cell_type": "code",
   "execution_count": 34,
   "metadata": {},
   "outputs": [],
   "source": [
    "model_log = LogisticRegression(C = 10.0) # Creating LR model\n",
    "model_knn = KNeighborsClassifier(n_neighbors=3) # KNN\n",
    "model_svm = SVC(C=10.0,kernel='rbf') # SVM\n",
    "model_dt = DecisionTreeClassifier() # Decision Tree\n",
    "model_rf = RandomForestClassifier(n_estimators=100) # Random Forest"
   ]
  },
  {
   "cell_type": "markdown",
   "metadata": {},
   "source": [
    "***Training Model***"
   ]
  },
  {
   "cell_type": "code",
   "execution_count": 37,
   "metadata": {},
   "outputs": [
    {
     "name": "stdout",
     "output_type": "stream",
     "text": [
      "Model Trained Sucessfully !!!\n"
     ]
    }
   ],
   "source": [
    "model_log.fit(x_train,y_train) # fitting  Logistic model\n",
    "model_knn.fit(x_train,y_train) # fitting KNN model\n",
    "model_svm.fit(x_train,y_train) # fitting SVM model\n",
    "model_dt.fit(x_train,y_train) # fitting DT model\n",
    "model_rf.fit(x_train,y_train) # fitting RF model\n",
    "print('Models Trained Sucessfully !!!')"
   ]
  },
  {
   "cell_type": "markdown",
   "metadata": {},
   "source": [
    "> ** Step : 6 - Model Evaluation**\n",
    "\n",
    "- Confusion Matrix\n",
    "- Classification Report"
   ]
  },
  {
   "cell_type": "code",
   "execution_count": 39,
   "metadata": {},
   "outputs": [],
   "source": [
    "y_pred_log = model_log.predict(x_test) # predicted results\n",
    "y_pred_knn = model_knn.predict(x_test) # predicted results\n",
    "y_pred_svm = model_svm.predict(x_test) # predicted results\n",
    "y_pred_dt = model_dt.predict(x_test) # predicted results\n",
    "y_pred_rf = model_rf.predict(x_test) # predicted results"
   ]
  },
  {
   "cell_type": "code",
   "execution_count": 40,
   "metadata": {},
   "outputs": [],
   "source": [
    "from sklearn.metrics import confusion_matrix , classification_report"
   ]
  },
  {
   "cell_type": "code",
   "execution_count": 41,
   "metadata": {},
   "outputs": [],
   "source": [
    "cm_log = confusion_matrix(y_test,y_pred_log) # logistic regression\n",
    "cm_knn = confusion_matrix(y_test,y_pred_knn) # knn\n",
    "cm_svm = confusion_matrix(y_test,y_pred_svm) # svm\n",
    "cm_dt = confusion_matrix(y_test,y_pred_dt) # decision tree\n",
    "cm_rf = confusion_matrix(y_test,y_pred_rf) # random forest"
   ]
  },
  {
   "cell_type": "code",
   "execution_count": 42,
   "metadata": {},
   "outputs": [],
   "source": [
    "import seaborn as sns"
   ]
  },
  {
   "cell_type": "code",
   "execution_count": 44,
   "metadata": {
    "scrolled": false
   },
   "outputs": [
    {
     "data": {
      "image/png": "[encoded data removed]",
      "text/plain": [
       "<matplotlib.figure.Figure at 0xcfab5accc0>"
      ]
     },
     "metadata": {},
     "output_type": "display_data"
    },
    {
     "data": {
      "image/png": "[encoded data removed]",
      "text/plain": [
       "<matplotlib.figure.Figure at 0xcfab61e668>"
      ]
     },
     "metadata": {},
     "output_type": "display_data"
    },
    {
     "data": {
      "image/png": "[encoded data removed]",
      "text/plain": [
       "<matplotlib.figure.Figure at 0xcfab61e6a0>"
      ]
     },
     "metadata": {},
     "output_type": "display_data"
    },
    {
     "data": {
      "image/png": "[encoded data removed]",
      "text/plain": [
       "<matplotlib.figure.Figure at 0xcfab6e57b8>"
      ]
     },
     "metadata": {},
     "output_type": "display_data"
    },
    {
     "data": {
      "image/png": "[encoded data removed]",
      "text/plain": [
       "<matplotlib.figure.Figure at 0xcfab91bd30>"
      ]
     },
     "metadata": {},
     "output_type": "display_data"
    }
   ],
   "source": [
    "plt.figure(figsize=(8,6))\n",
    "sns.heatmap(cm_log,annot=True,cmap='summer')\n",
    "plt.title('Logistic Regression')\n",
    "plt.show()\n",
    "\n",
    "plt.figure(figsize=(8,6))\n",
    "sns.heatmap(cm_knn,annot=True,cmap='gnuplot')\n",
    "plt.title('K Nearest Neighbour')\n",
    "plt.show()\n",
    "\n",
    "plt.figure(figsize=(8,6))\n",
    "sns.heatmap(cm_svm,annot=True,cmap='Paired')\n",
    "plt.title('Support Vector Machine')\n",
    "plt.show()\n",
    "\n",
    "plt.figure(figsize=(8,6))\n",
    "sns.heatmap(cm_dt,annot=True,cmap='ocean')\n",
    "plt.title('Decision Tree')\n",
    "plt.show()\n",
    "\n",
    "plt.figure(figsize=(8,6))\n",
    "sns.heatmap(cm_rf,annot=True,cmap='prism')\n",
    "plt.title('Random Forest')\n",
    "plt.show()"
   ]
  },
  {
   "cell_type": "code",
   "execution_count": 49,
   "metadata": {},
   "outputs": [
    {
     "name": "stdout",
     "output_type": "stream",
     "text": [
      "\n",
      "====================Logistic Regression====================\n",
      "\n",
      "             precision    recall  f1-score   support\n",
      "\n",
      "          0       1.00      1.00      1.00        27\n",
      "          1       0.77      0.86      0.81        35\n",
      "          2       0.91      0.89      0.90        36\n",
      "          3       0.93      0.97      0.95        29\n",
      "          4       0.85      0.93      0.89        30\n",
      "          5       0.93      0.95      0.94        40\n",
      "          6       1.00      0.98      0.99        44\n",
      "          7       0.95      0.95      0.95        39\n",
      "          8       0.90      0.69      0.78        39\n",
      "          9       0.88      0.93      0.90        41\n",
      "\n",
      "avg / total       0.91      0.91      0.91       360\n",
      "\n",
      "\n",
      "====================K Nearest Neighbour====================\n",
      "\n",
      "             precision    recall  f1-score   support\n",
      "\n",
      "          0       0.96      1.00      0.98        27\n",
      "          1       0.74      0.97      0.84        35\n",
      "          2       0.94      0.92      0.93        36\n",
      "          3       1.00      0.90      0.95        29\n",
      "          4       1.00      0.93      0.97        30\n",
      "          5       0.95      0.97      0.96        40\n",
      "          6       0.98      1.00      0.99        44\n",
      "          7       0.97      1.00      0.99        39\n",
      "          8       0.93      0.72      0.81        39\n",
      "          9       0.93      0.93      0.93        41\n",
      "\n",
      "avg / total       0.94      0.93      0.93       360\n",
      "\n",
      "\n",
      "====================Support Vector Machine====================\n",
      "\n",
      "             precision    recall  f1-score   support\n",
      "\n",
      "          0       1.00      1.00      1.00        27\n",
      "          1       0.80      0.94      0.87        35\n",
      "          2       0.95      0.97      0.96        36\n",
      "          3       0.94      1.00      0.97        29\n",
      "          4       0.90      0.93      0.92        30\n",
      "          5       0.95      0.95      0.95        40\n",
      "          6       1.00      0.98      0.99        44\n",
      "          7       0.97      0.95      0.96        39\n",
      "          8       0.94      0.79      0.86        39\n",
      "          9       0.95      0.90      0.92        41\n",
      "\n",
      "avg / total       0.94      0.94      0.94       360\n",
      "\n",
      "\n",
      "====================Decision Tree====================\n",
      "\n",
      "             precision    recall  f1-score   support\n",
      "\n",
      "          0       0.93      0.93      0.93        27\n",
      "          1       0.74      0.83      0.78        35\n",
      "          2       0.88      0.58      0.70        36\n",
      "          3       0.69      0.83      0.75        29\n",
      "          4       0.79      0.90      0.84        30\n",
      "          5       0.97      0.88      0.92        40\n",
      "          6       0.95      0.91      0.93        44\n",
      "          7       0.89      0.87      0.88        39\n",
      "          8       0.71      0.74      0.72        39\n",
      "          9       0.84      0.90      0.87        41\n",
      "\n",
      "avg / total       0.84      0.84      0.84       360\n",
      "\n",
      "\n",
      "====================Random Forest====================\n",
      "\n",
      "             precision    recall  f1-score   support\n",
      "\n",
      "          0       1.00      1.00      1.00        27\n",
      "          1       0.92      0.97      0.94        35\n",
      "          2       0.97      1.00      0.99        36\n",
      "          3       0.93      0.97      0.95        29\n",
      "          4       1.00      0.97      0.98        30\n",
      "          5       0.97      0.95      0.96        40\n",
      "          6       1.00      1.00      1.00        44\n",
      "          7       0.97      1.00      0.99        39\n",
      "          8       0.97      0.85      0.90        39\n",
      "          9       0.91      0.95      0.93        41\n",
      "\n",
      "avg / total       0.96      0.96      0.96       360\n",
      "\n"
     ]
    }
   ],
   "source": [
    "cr_log = classification_report(y_test,y_pred_log)\n",
    "print('\\n'+'='*20+ 'Logistic Regression'+ \"=\"*20+'\\n')\n",
    "print(cr_log)\n",
    "cr_knn = classification_report(y_test,y_pred_knn)\n",
    "print('\\n'+'='*20+ 'K Nearest Neighbour'+ \"=\"*20+'\\n')\n",
    "print(cr_knn)\n",
    "cr_svm = classification_report(y_test,y_pred_svm)\n",
    "print('\\n'+'='*20+ 'Support Vector Machine'+ \"=\"*20+'\\n')\n",
    "print(cr_svm)\n",
    "cr_dt = classification_report(y_test,y_pred_dt)\n",
    "print('\\n'+'='*20+ 'Decision Tree'+ \"=\"*20+'\\n')\n",
    "print(cr_dt)\n",
    "cr_rf = classification_report(y_test,y_pred_rf)\n",
    "print('\\n'+'='*20+ 'Random Forest'+ \"=\"*20+'\\n')\n",
    "print(cr_rf)"
   ]
  },
  {
   "cell_type": "markdown",
   "metadata": {},
   "source": [
    "# Test your model"
   ]
  },
  {
   "cell_type": "code",
   "execution_count": 50,
   "metadata": {},
   "outputs": [],
   "source": [
    "import cv2"
   ]
  },
  {
   "cell_type": "code",
   "execution_count": 58,
   "metadata": {},
   "outputs": [
    {
     "data": {
      "image/png": "[encoded data removed]",
      "text/plain": [
       "<matplotlib.figure.Figure at 0xcfac09f898>"
      ]
     },
     "metadata": {},
     "output_type": "display_data"
    }
   ],
   "source": [
    "# step 1 : read and convert into gray scale\n",
    "img = cv2.imread('number2.jpg',0)\n",
    "# step 2 : Resize image to 8 x 8\n",
    "img_re = cv2.resize(img,(8,8))\n",
    "# step 3: inverse thresolding\n",
    "ret, thresh = cv2.threshold(img_re,127,255,cv2.THRESH_BINARY_INV)\n",
    "# step 4 : Noramlizing (0 - 1)\n",
    "test = thresh/255.0\n",
    "# step 5 : Reshaping (1,64)\n",
    "test = test.reshape((1,64))\n",
    "plt.imshow(test,cmap ='gray')\n",
    "plt.show()"
   ]
  },
  {
   "cell_type": "code",
   "execution_count": 60,
   "metadata": {},
   "outputs": [
    {
     "name": "stdout",
     "output_type": "stream",
     "text": [
      "Prediction with Random forest:  [2]\n"
     ]
    }
   ],
   "source": [
    "print('Prediction with Random forest: ',model_rf.predict(test))"
   ]
  },
  {
   "cell_type": "markdown",
   "metadata": {},
   "source": [
    "# Real Time "
   ]
  },
  {
   "cell_type": "code",
   "execution_count": 63,
   "metadata": {},
   "outputs": [],
   "source": [
    "cap = cv2.VideoCapture(0)\n",
    "\n",
    "while True:\n",
    "    _,img = cap.read()\n",
    "    gray = cv2.cvtColor(img,cv2.COLOR_BGR2GRAY)\n",
    "    blur = cv2.GaussianBlur(gray, (7,7),3)\n",
    "    _,th3 = cv2.threshold(gray,100,255,cv2.THRESH_BINARY_INV)\n",
    "    #th3 = cv2.adaptiveThreshold(blur,255,cv2.ADAPTIVE_THRESH_GAUSSIAN_C,cv2.THRESH_BINARY_INV,21,7)\n",
    "    im2, contours, hierarchy = cv2.findContours(th3,cv2.RETR_TREE,cv2.CHAIN_APPROX_SIMPLE)\n",
    "    areas = [cv2.contourArea(c) for c in contours]\n",
    "    ix = np.where(np.array(areas) > 300)[0]\n",
    "    result = np.array([1,0,0,0,0,0,0,0,0,0])\n",
    "    for i in ix:\n",
    "        cnt = contours[i]\n",
    "        xr,yr,wr,hr = cv2.boundingRect(cnt)\n",
    "        if xr< 20 :\n",
    "            xr = 25\n",
    "\n",
    "\n",
    "        if yr < 20:\n",
    "            yr = 25\n",
    "\n",
    "\n",
    "        cv2.rectangle(img,(xr-10,yr-10),(xr+wr+10,yr+hr+10), (0,255,0),2)\n",
    "        roi = th3[yr-20:yr+hr+20, xr-20:xr+wr+20]\n",
    "        \n",
    "        roi_re=cv2.resize(roi,(8,8))\n",
    "        g = roi_re.reshape(1,64).astype('float32')\n",
    "        g = g/255\n",
    "        result=  model_rf.predict(g)\n",
    "        #print(result)\n",
    "        font = cv2.FONT_HERSHEY_SIMPLEX\n",
    "        cv2.putText(img,'Number: '+str(result),(xr-10,yr-10), font, 0.4, (255,0,0), 1, cv2.LINE_AA)\n",
    "\n",
    "\n",
    "    cv2.imshow('Threshold',th3)\n",
    "    cv2.imshow('orginal',img)\n",
    "\n",
    "    if cv2.waitKey(41) & 0xff == ord('q'):\n",
    "        break\n",
    "        \n",
    "    \n",
    "    \n",
    "cap.release()    \n",
    "cv2.destroyAllWindows()"
   ]
  },
  {
   "cell_type": "markdown",
   "metadata": {},
   "source": [
    "\"q\" - to close"
   ]
  },
  {
   "cell_type": "code",
   "execution_count": null,
   "metadata": {},
   "outputs": [],
   "source": []
  }
 ],
 "metadata": {
  "kernelspec": {
   "display_name": "Python 3",
   "language": "python",
   "name": "python3"
  },
  "language_info": {
   "codemirror_mode": {
    "name": "ipython",
    "version": 3
   },
   "file_extension": ".py",
   "mimetype": "text/x-python",
   "name": "python",
   "nbconvert_exporter": "python",
   "pygments_lexer": "ipython3",
   "version": "3.6.4"
  }
 },
 "nbformat": 4,
 "nbformat_minor": 2
}
